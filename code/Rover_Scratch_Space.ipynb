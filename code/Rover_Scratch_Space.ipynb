{
 "cells": [
  {
   "cell_type": "code",
   "execution_count": 11,
   "metadata": {},
   "outputs": [],
   "source": [
    "% matplotlib inline\n",
    "# %matplotlib qt \n",
    "import matplotlib\n",
    "# matplotlib.use('Qt5Agg')\n",
    "import itertools as iter\n",
    "# Choose %matplotlib qt to plot to an interactive window (note it may show up behind your browser)\n",
    "import cv2 # OpenCV for perspective transform\n",
    "import numpy as np\n",
    "import matplotlib.image as mpimg\n",
    "import matplotlib.pyplot as plt\n",
    "import scipy.misc # For saving images as needed\n",
    "import glob  # For reading in a list of images from a folder\n",
    "import imageio\n",
    "imageio.plugins.ffmpeg.download()\n",
    "from skimage.transform import SimilarityTransform\n",
    "from skimage.transform import rotate, warp"
   ]
  },
  {
   "cell_type": "markdown",
   "metadata": {},
   "source": [
    "## TASKS TO COMPLETE THIS:\n",
    "* ### CV tasks\n",
    "    * ingest image\n",
    "    * color threshold\n",
    "    * transform perspective\n",
    "* ### Mapping tasks\n",
    "    * convert the image into appropriate size and coordinate frame\n",
    "    * align with current map\n",
    "    * add to map, adjusting potential probabilities as necessary\n",
    "* ### Task planning\n",
    "    * evaluate if currently performing safe action\n",
    "    * evaluate current goal completion percentages for each task\n",
    "    * determine if should <explore|retreat|approach target|collect target|return home>\n",
    "    * enact subsequent behavior\n",
    "* ### Motion planning (explore)\n",
    "    * choose appropriate next waypoint\n",
    "    * determine acceptable trajectory to reach that waypoint\n",
    "    * transfer to control sequence (perfect control, no need for feedback here)\n",
    "* ### Motion planning (retreat)\n",
    "    * determine likely escape region\n",
    "    * choose appropriate next waypoint\n",
    "    * determine acceptable trajectory to reach that waypoint\n",
    "    * transfer to control sequence (perfect control, no need for feedback here)\n",
    "* ### Motion planning (collect)\n",
    "    * if not well positioned for pick-up, determine trajectory to move to one\n",
    "    * transfer to control sequence (perfect control, no need for feedback here)\n",
    "    * initiate target collection\n",
    "* ### Motion planning (return)\n",
    "    * determine path to home base\n",
    "    * transfer to control sequence (perfect control, no need for feedback here)"
   ]
  },
  {
   "cell_type": "code",
   "execution_count": 3,
   "metadata": {},
   "outputs": [],
   "source": [
    "sample_telemetry = {\n",
    "    'Path': '/home/dieslow/WORKSPACE/ROBOTZ/RoboND-Rover-Project/collected_images/IMG/robocam_2017_12_06_05_49_10_917.jpg' ,\n",
    "    'SteerAngle': 0.,\n",
    "    'Throttle': 0.,\n",
    "    'Brake': 0.,\n",
    "    'Speed': 0.,\n",
    "    'X_Position': 140.7583,\n",
    "    'Y_Position': 108.5207,\n",
    "    'Pitch': 0.001985437,\n",
    "    'Yaw': 180.616,\n",
    "    'Roll': -4.95368E-05\n",
    "}"
   ]
  },
  {
   "cell_type": "code",
   "execution_count": 4,
   "metadata": {
    "scrolled": false
   },
   "outputs": [
    {
     "data": {
      "text/plain": [
       "<matplotlib.image.AxesImage at 0x7f6ee404b4d0>"
      ]
     },
     "execution_count": 4,
     "metadata": {},
     "output_type": "execute_result"
    }
   ],
   "source": [
    "sample_image = mpimg.imread(sample_telemetry['Path'])\n",
    "plt.imshow(sample_image)"
   ]
  },
  {
   "cell_type": "markdown",
   "metadata": {},
   "source": [
    "Below seems to produce a slightly rotated transformation look at later if need be"
   ]
  },
  {
   "cell_type": "code",
   "execution_count": 7,
   "metadata": {},
   "outputs": [
    {
     "name": "stdout",
     "output_type": "stream",
     "text": [
      "(2000, 2000)\n",
      "(1859.2417, 1891.4793)\n",
      "((140.7583, 108.5207), 180.616, (140.7583, 108.5207), 180.616)\n",
      "0.0\n",
      "(20000, 20000)\n"
     ]
    },
    {
     "ename": "ValueError",
     "evalue": "operands could not be broadcast together with shapes (0,0) (160,320) ",
     "output_type": "error",
     "traceback": [
      "\u001b[0;31m---------------------------------------------------------------------------\u001b[0m",
      "\u001b[0;31mValueError\u001b[0m                                Traceback (most recent call last)",
      "\u001b[0;32m<ipython-input-7-6dfac2cb367f>\u001b[0m in \u001b[0;36m<module>\u001b[0;34m()\u001b[0m\n\u001b[1;32m      4\u001b[0m \u001b[0;32mprint\u001b[0m\u001b[0;34m(\u001b[0m\u001b[0mrover\u001b[0m\u001b[0;34m.\u001b[0m\u001b[0minit_coords\u001b[0m\u001b[0;34m,\u001b[0m \u001b[0mrover\u001b[0m\u001b[0;34m.\u001b[0m\u001b[0minit_yaw\u001b[0m\u001b[0;34m,\u001b[0m \u001b[0mrover\u001b[0m\u001b[0;34m.\u001b[0m\u001b[0mcurrent_coords\u001b[0m\u001b[0;34m,\u001b[0m \u001b[0mrover\u001b[0m\u001b[0;34m.\u001b[0m\u001b[0mcurrent_yaw\u001b[0m\u001b[0;34m)\u001b[0m\u001b[0;34m\u001b[0m\u001b[0m\n\u001b[1;32m      5\u001b[0m \u001b[0mrover\u001b[0m\u001b[0;34m.\u001b[0m\u001b[0mcurrent_view\u001b[0m \u001b[0;34m=\u001b[0m \u001b[0msample_image\u001b[0m\u001b[0;34m\u001b[0m\u001b[0m\n\u001b[0;32m----> 6\u001b[0;31m \u001b[0mrover\u001b[0m\u001b[0;34m.\u001b[0m\u001b[0mupdate_map\u001b[0m\u001b[0;34m(\u001b[0m\u001b[0;34m)\u001b[0m\u001b[0;34m\u001b[0m\u001b[0m\n\u001b[0m",
      "\u001b[0;32m<ipython-input-6-803bf321625a>\u001b[0m in \u001b[0;36mupdate_map\u001b[0;34m(self)\u001b[0m\n\u001b[1;32m     79\u001b[0m         self.main_map[idx_coord_x-self.x_half:idx_coord_x+self.x_half, idx_coord_y:idx_coord_y+self.y_half*2] = np.bitwise_or(\n\u001b[1;32m     80\u001b[0m         \u001b[0mself\u001b[0m\u001b[0;34m.\u001b[0m\u001b[0mmain_map\u001b[0m\u001b[0;34m[\u001b[0m\u001b[0midx_coord_x\u001b[0m\u001b[0;34m-\u001b[0m\u001b[0mself\u001b[0m\u001b[0;34m.\u001b[0m\u001b[0mx_half\u001b[0m\u001b[0;34m:\u001b[0m\u001b[0midx_coord_x\u001b[0m\u001b[0;34m+\u001b[0m\u001b[0mself\u001b[0m\u001b[0;34m.\u001b[0m\u001b[0mx_half\u001b[0m\u001b[0;34m,\u001b[0m \u001b[0midx_coord_y\u001b[0m\u001b[0;34m:\u001b[0m\u001b[0midx_coord_y\u001b[0m\u001b[0;34m+\u001b[0m\u001b[0mself\u001b[0m\u001b[0;34m.\u001b[0m\u001b[0my_half\u001b[0m\u001b[0;34m*\u001b[0m\u001b[0;36m2\u001b[0m\u001b[0;34m]\u001b[0m\u001b[0;34m,\u001b[0m\u001b[0;34m\u001b[0m\u001b[0m\n\u001b[0;32m---> 81\u001b[0;31m             transed.astype(np.int32))\n\u001b[0m\u001b[1;32m     82\u001b[0m \u001b[0;34m\u001b[0m\u001b[0m\n\u001b[1;32m     83\u001b[0m         \u001b[0mscipy\u001b[0m\u001b[0;34m.\u001b[0m\u001b[0mmisc\u001b[0m\u001b[0;34m.\u001b[0m\u001b[0mimsave\u001b[0m\u001b[0;34m(\u001b[0m\u001b[0;34m'./test_code_collection/warped_example'\u001b[0m \u001b[0;34m+\u001b[0m \u001b[0mstr\u001b[0m\u001b[0;34m(\u001b[0m\u001b[0mself\u001b[0m\u001b[0;34m.\u001b[0m\u001b[0mimage_count\u001b[0m\u001b[0;34m)\u001b[0m \u001b[0;34m+\u001b[0m \u001b[0;34m'.jpg'\u001b[0m\u001b[0;34m,\u001b[0m \u001b[0mself\u001b[0m\u001b[0;34m.\u001b[0m\u001b[0mmain_map\u001b[0m\u001b[0;34m)\u001b[0m\u001b[0;34m\u001b[0m\u001b[0m\n",
      "\u001b[0;31mValueError\u001b[0m: operands could not be broadcast together with shapes (0,0) (160,320) "
     ]
    }
   ],
   "source": [
    "rover = NASARover(init_coords=(sample_telemetry['X_Position'], sample_telemetry['Y_Position']),\n",
    "                  init_yaw=sample_telemetry['Yaw'])\n",
    "\n",
    "print(rover.init_coords, rover.init_yaw, rover.current_coords, rover.current_yaw)\n",
    "rover.current_view = sample_image\n",
    "rover.update_map()"
   ]
  },
  {
   "cell_type": "code",
   "execution_count": 12,
   "metadata": {},
   "outputs": [],
   "source": [
    "rover.current_view = sample_image\n",
    "trans_img = rover.process_image()"
   ]
  },
  {
   "cell_type": "code",
   "execution_count": 13,
   "metadata": {},
   "outputs": [
    {
     "data": {
      "text/plain": [
       "<matplotlib.image.AxesImage at 0x7f6f40abfb90>"
      ]
     },
     "execution_count": 13,
     "metadata": {},
     "output_type": "execute_result"
    },
    {
     "data": {
      "image/png": "[encoded data removed]",
      "text/plain": [
       "<matplotlib.figure.Figure at 0x7f6edc6716d0>"
      ]
     },
     "metadata": {},
     "output_type": "display_data"
    }
   ],
   "source": [
    "plt.imshow(trans_img)"
   ]
  },
  {
   "cell_type": "code",
   "execution_count": 57,
   "metadata": {},
   "outputs": [
    {
     "data": {
      "text/plain": [
       "<matplotlib.image.AxesImage at 0x7f1b48608810>"
      ]
     },
     "execution_count": 57,
     "metadata": {},
     "output_type": "execute_result"
    },
    {
     "data": {
      "image/png": "[encoded data removed]",
      "text/plain": [
       "<matplotlib.figure.Figure at 0x7f1b4926d290>"
      ]
     },
     "metadata": {},
     "output_type": "display_data"
    }
   ],
   "source": [
    "plt.imshow(rover.main_map)"
   ]
  },
  {
   "cell_type": "code",
   "execution_count": 63,
   "metadata": {},
   "outputs": [
    {
     "name": "stdout",
     "output_type": "stream",
     "text": [
      "0.0\n",
      "(2180, 2360)\n"
     ]
    },
    {
     "data": {
      "text/plain": [
       "<matplotlib.image.AxesImage at 0x7f1b48274450>"
      ]
     },
     "execution_count": 63,
     "metadata": {},
     "output_type": "execute_result"
    },
    {
     "data": {
      "image/png": "[encoded data removed]",
      "text/plain": [
       "<matplotlib.figure.Figure at 0x7f1b48901190>"
      ]
     },
     "metadata": {},
     "output_type": "display_data"
    }
   ],
   "source": [
    "# Test increments\n",
    "rover.current_coords = (rover.current_coords[0] + 30, rover.current_coords[1] + 60)\n",
    "rover.current_yaw = rover.current_yaw # + 25?\n",
    "rover.update_map()\n",
    "plt.imshow(rover.main_map)"
   ]
  },
  {
   "cell_type": "code",
   "execution_count": 6,
   "metadata": {},
   "outputs": [],
   "source": [
    "class NASARover():\n",
    "    def __init__(self, init_coords, init_yaw):\n",
    "        self.init_coords = init_coords #some sort of property hackery for get only?\n",
    "        self.init_yaw = init_yaw #TODO: THIS ALMOST CERTAINLY NEEDS TO BE RADS, OR AT LEAST NORMALIZED\n",
    "        self.map_normal_yaw = 0\n",
    "        self.map_yaw_shift = self.init_yaw\n",
    "        self.current_coords = self.init_coords\n",
    "        self.current_yaw = self.init_yaw #some sort of property hackery for getter modulate functionality?\n",
    "\n",
    "        self.main_map = np.zeros((4000, 4000), dtype=np.int32)         #         self.main_map = np.zeros((4000, 4000, 3), dtype=np.int8)\n",
    "        self.map_origin_coords = (np.int(np.floor(self.main_map.shape[0] / 2)), np.int(np.floor(self.main_map.shape[1] / 2)))\n",
    "        print(self.map_origin_coords)\n",
    "        self.map_coords_shift = (self.map_origin_coords[0]-self.init_coords[0],\n",
    "                                    self.map_origin_coords[1]-self.init_coords[1])\n",
    "        print(self.map_coords_shift)\n",
    "        self.image_size = (160, 320)\n",
    "        self.view_size_x, self.view_size_y = self.image_size\n",
    "        self.x_half = self.view_size_x / 2\n",
    "        self.y_half = self.view_size_y / 2\n",
    "\n",
    "        self.image_count = 0\n",
    "        \n",
    "        self.current_view = None\n",
    "        self.rock_locs = None\n",
    "    \n",
    "    def perspective_transform(self, img, src, dst):           \n",
    "        M = cv2.getPerspectiveTransform(src, dst)\n",
    "        warped = cv2.warpPerspective(img, M, (img.shape[1], img.shape[0]))# keep same size as input image\n",
    "        return warped\n",
    "    \n",
    "    def process_image(self):\n",
    "        hsv_image = cv2.cvtColor(self.current_view, cv2.COLOR_RGB2HSV)\n",
    "        lower_trad_hsv = [10.,0.,75.]     # gpick uses different scale for HSV values than cv2\n",
    "        upper_trad_hsv = [70.,18.,100.]\n",
    "        lower_ground = np.array([lower_trad_hsv[0] / 2,(lower_trad_hsv[1] / 100) * 255, (lower_trad_hsv[2] / 100) * 255])\n",
    "        upper_ground = np.array([upper_trad_hsv[0] / 2,(upper_trad_hsv[1] / 100) * 255, (upper_trad_hsv[2] / 100) * 255])\n",
    "\n",
    "        ground_mask = cv2.inRange(hsv_image, lower_ground, upper_ground).astype(np.bool)\n",
    "\n",
    "        ground_out = ground_mask.astype(np.float32)\n",
    "\n",
    "        map_grid_side = 10 # each 10x10 pixel sq reps 1 m**2\n",
    "        dst_size = map_grid_side / 2 \n",
    "        bottom_offset = 2 # offset to account for bottom space in camera image \n",
    "        source = np.float32([[118, 99], [203, 99], [182, 90], [136, 90]])\n",
    "        destination = np.float32([\n",
    "            # weird double variable naming to change later\n",
    "            [self.current_view.shape[1]/2 - dst_size, self.current_view.shape[0] + map_grid_side - bottom_offset],\n",
    "            [self.current_view.shape[1]/2 + dst_size, self.current_view.shape[0] + map_grid_side - bottom_offset],\n",
    "            [self.current_view.shape[1]/2 + dst_size, self.current_view.shape[0] - map_grid_side - 2*dst_size - bottom_offset], \n",
    "            [self.current_view.shape[1]/2 - dst_size, self.current_view.shape[0] - map_grid_side - 2*dst_size - bottom_offset],\n",
    "        ])\n",
    "        ground_warped = self.perspective_transform(ground_out, source, destination)\n",
    "        return ground_warped\n",
    "\n",
    "    def update_map(self):\n",
    "# SCALING ISN'T RIGHT!!!\n",
    "        # angle subtraction may be tricky\n",
    "        threshed_image = self.process_image()\n",
    "        yaw_diff = self.current_yaw - self.map_yaw_shift # below center param should be derived from object init\n",
    "        print(yaw_diff)\n",
    "        transed = rotate(threshed_image, angle=yaw_diff, resize=False, center=(160, 160), order=1, mode='constant', cval=0, clip=True, preserve_range=True)\n",
    "        plt.imshow(transed)\n",
    "#         # add walls to current_map section\n",
    "#         self.main_map[:,:,1][current_coords[0]-x_half:\n",
    "#                         current_coords[0]+x_half, current_coords[1]:current_coords[1]+y_half*2] = np.bitwise_or(\n",
    "#             self.main_map[:,:,1][current_coords[0]-x_half:current_coords[0]+x_half, current_coords[1]:\n",
    "#                             current_coords[1]+y_half*2], walls_warped.astype(np.int8))\n",
    "\n",
    "        # add path to current map section\n",
    "#         self.main_map[:,:,0][self.current_coords[0]-x_half:\n",
    "#                         self.current_coords[0]+x_half, self.current_coords[1]:self.current_coords[1]+y_half*2] = np.bitwise_or(\n",
    "#             self.main_map[:,:,0][self.current_coords[0]-x_half:self.current_coords[0]+x_half, self.current_coords[1]:\n",
    "#                             self.current_coords[1]+y_half*2], ground_warped.astype(np.int8))\n",
    "        \n",
    "        idx_coord_x = np.floor(self.current_coords[0] + self.map_coords_shift[0]).astype(np.int32) * 10 #cast to use for indexing array\n",
    "        idx_coord_y = np.floor(self.current_coords[1] + self.map_coords_shift[1]).astype(np.int32) * 10\n",
    "        print(idx_coord_x, idx_coord_y)\n",
    "        self.main_map[idx_coord_x-self.x_half:idx_coord_x+self.x_half, idx_coord_y:idx_coord_y+self.y_half*2] = np.bitwise_or(\n",
    "        self.main_map[idx_coord_x-self.x_half:idx_coord_x+self.x_half, idx_coord_y:idx_coord_y+self.y_half*2],\n",
    "            transed.astype(np.int32))\n",
    "        \n",
    "        scipy.misc.imsave('./test_code_collection/warped_example' + str(self.image_count) + '.jpg', self.main_map)\n",
    "        plt.imshow(self.main_map[idx_coord_x-self.x_half:idx_coord_x+self.x_half, idx_coord_y:idx_coord_y+self.y_half*2], cmap='gray')\n",
    "        self.image_count += 1\n",
    "        \n",
    "    def make_decision_for_next_point_state_machine():\n",
    "        pass\n",
    "    def create_control_inputs_for_next_cycle():\n",
    "        pass"
   ]
  },
  {
   "cell_type": "code",
   "execution_count": 65,
   "metadata": {},
   "outputs": [],
   "source": [
    "!mkdir ./test_code_collection"
   ]
  },
  {
   "cell_type": "code",
   "execution_count": 66,
   "metadata": {},
   "outputs": [
    {
     "name": "stdout",
     "output_type": "stream",
     "text": [
      "decision.py\tperception.pyc\t\t\t   supporting_functions.py\n",
      "decision.pyc\t__pycache__\t\t\t   supporting_functions.pyc\n",
      "drive_rover.py\tRover_Project_Test_Notebook.ipynb  test_code_collection\n",
      "perception.py\tRover_Scratch_Space.ipynb\n"
     ]
    }
   ],
   "source": [
    "!ls"
   ]
  },
  {
   "cell_type": "code",
   "execution_count": null,
   "metadata": {},
   "outputs": [],
   "source": [
    "transed = transform.rotate(image, angle=20, resize=True, center=(160, 160), order=1, mode='constant', cval=0, clip=True, preserve_range=False)\n",
    "plt.imshow(transed)"
   ]
  },
  {
   "cell_type": "markdown",
   "metadata": {},
   "source": [
    "# BIG TODO: NEED TO TAKE INTERSECTION OF TWO AND PREFER PATH WHERE THERES OVERLAP"
   ]
  },
  {
   "cell_type": "markdown",
   "metadata": {},
   "source": [
    "\n",
    "# THIS ABOVE NEEDS TO BE VERIFIED AGAINST BOTH AND OVERHEAD SHOT FROM THE SIM, AS WELL AS IN OTHER, LESS SPACIOUS CONDITIONS"
   ]
  },
  {
   "cell_type": "markdown",
   "metadata": {},
   "source": [
    "# TODO: Take a second threshold with the colors of the rocks, to create blocked areas|"
   ]
  },
  {
   "cell_type": "code",
   "execution_count": null,
   "metadata": {},
   "outputs": [],
   "source": []
  },
  {
   "cell_type": "code",
   "execution_count": null,
   "metadata": {},
   "outputs": [],
   "source": [
    "    def process_image(self, frame):\n",
    "        hsv_image = cv2.cvtColor(frame, cv2.COLOR_RGB2HSV)\n",
    "        lower_trad_hsv = [10.,0.,75.]     # gpick uses different scale for HSV values than cv2\n",
    "        upper_trad_hsv = [70.,18.,100.]\n",
    "        lower_ground = np.array([lower_trad_hsv[0] / 2,(lower_trad_hsv[1] / 100) * 255, (lower_trad_hsv[2] / 100) * 255])\n",
    "        upper_ground = np.array([upper_trad_hsv[0] / 2,(upper_trad_hsv[1] / 100) * 255, (upper_trad_hsv[2] / 100) * 255])\n",
    "#         lower_trad_hsv = [5.,5.,40.]\n",
    "#         upper_trad_hsv = [45.,15.,60.]\n",
    "#         lower_sky = np.array([lower_trad_hsv[0] / 2,(lower_trad_hsv[1] / 100) * 255, (lower_trad_hsv[2] / 100) * 255])\n",
    "#         upper_sky = np.array([upper_trad_hsv[0] / 2,(upper_trad_hsv[1] / 100) * 255, (upper_trad_hsv[2] / 100) * 255])\n",
    "        ground_mask = cv2.inRange(hsv_image, lower_ground, upper_ground).astype(np.bool)\n",
    "#         sky_mask = cv2.inRange(hsv_image, lower_sky, upper_sky).astype(np.bool)\n",
    "#         walls_mask = np.bitwise_not(np.bitwise_or(ground_mask, sky_mask))\n",
    "        ground_out = ground_mask.astype(np.float32)\n",
    "#         walls_out = walls_mask.astype(np.float32)\n",
    "        # a lot of this can be moved to an init\n",
    "        map_grid_side = 10 # each 10x10 pixel sq reps 1 m**2\n",
    "        dst_size = map_grid_side / 2 \n",
    "        bottom_offset = 2 # offset to account for bottom space in camera image \n",
    "        source = np.float32([[118, 99], [203, 99], [182, 90], [136, 90]])\n",
    "        destination = np.float32([\n",
    "            [image.shape[1]/2 - dst_size, image.shape[0] + map_grid_side - bottom_offset],\n",
    "            [image.shape[1]/2 + dst_size, image.shape[0] + map_grid_side - bottom_offset],\n",
    "            [image.shape[1]/2 + dst_size, image.shape[0] - map_grid_side - 2*dst_size - bottom_offset], \n",
    "            [image.shape[1]/2 - dst_size, image.shape[0] - map_grid_side - 2*dst_size - bottom_offset],\n",
    "        ])\n",
    "        ground_warped = self.perspective_transform(ground_out, source, destination)\n",
    "#         walls_warped = self.perspective_transform(walls_out, source, destination)\n",
    "        plt.imshow(ground_warped, cmap='gray')\n",
    "\n",
    "        #scipy.misc.imsave('../output/warped_example.jpg', warped)\n"
   ]
  },
  {
   "cell_type": "code",
   "execution_count": null,
   "metadata": {},
   "outputs": [],
   "source": [
    "# tform = SimilarityTransform(translation=(0, -10))\n",
    "# awarped = warp(image, tform)\n",
    "# plt.imshow(awarped)\n",
    "\n",
    "# coordinate_shift_dict = {(k, None) for k in list(iter.product(range(0, 160), range(-160,160)))}\n",
    "# transform.s\n",
    "# plt.imshow(transed, cmap='gray')\n",
    "# for k, v in coordinate_shift_dict.items():\n",
    "#     # map image to rover coordinates (assuming camera is 0, which is doesn't appear to be)\n",
    "#     v = (k[0] + current_coords[0], k[1] + current_coords[1]) \n",
    "#     # don't need to translate these coords to global map\n",
    "    "
   ]
  },
  {
   "cell_type": "code",
   "execution_count": null,
   "metadata": {},
   "outputs": [],
   "source": [
    "def make_decision_for_next_point_state_machine():\n",
    "    if not stopped:\n",
    "        if wall within stopping distance:\n",
    "            stop or (not likely) tight turn\n",
    "        else: \n",
    "            create a random number between 0 and 2pi \n",
    "            find corresponding vector n meters away \n",
    "            checkk if vector is in wall and if so reguess\n",
    "            otherwise accept with a probability related to the dot product of that vector and current trajectory vector\n",
    "            take point along vector much closer to rover\n",
    "            turn that many degrees either at once or over a few frames\n",
    "    else: \n",
    "        do same thing for else above but maybe with large n meter parameter\n",
    "        but then turn in place and then need to accelerate to speed\n",
    "    pass"
   ]
  },
  {
   "cell_type": "code",
   "execution_count": null,
   "metadata": {},
   "outputs": [],
   "source": [
    "def create_control_inputs_for_next_cycle():\n",
    "    pass"
   ]
  },
  {
   "cell_type": "code",
   "execution_count": null,
   "metadata": {},
   "outputs": [],
   "source": [
    "class MappingMap(np.ndarray):\n",
    "    __init__():\n",
    "        pass"
   ]
  },
  {
   "cell_type": "code",
   "execution_count": null,
   "metadata": {},
   "outputs": [],
   "source": [
    "class ExpandingMap(object):\n",
    "    def __init__(self, np_arr):\n",
    "        self._array = np.array(np_arr)\n",
    "        maybe_initialize_a_map_with_neg_1s_and_shit\n",
    "    def __add__(self, other_np_array, addition_point):\n",
    "        if addition_point + other_np_array_dims_y > self_arr_dims:\n",
    "            create_a_new_larger_array_of_size\n",
    "            set_array_to_be_so_and_so\n",
    "        return np.add(self._array, other_np_array)\n",
    "    def maybe_no_add_just_expand_map_by_matching"
   ]
  }
 ],
 "metadata": {
  "kernelspec": {
   "display_name": "Python 2",
   "language": "python",
   "name": "python2"
  },
  "language_info": {
   "codemirror_mode": {
    "name": "ipython",
    "version": 2
   },
   "file_extension": ".py",
   "mimetype": "text/x-python",
   "name": "python",
   "nbconvert_exporter": "python",
   "pygments_lexer": "ipython2",
   "version": "2.7.12"
  }
 },
 "nbformat": 4,
 "nbformat_minor": 2
}
